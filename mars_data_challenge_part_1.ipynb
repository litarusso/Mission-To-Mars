{
 "cells": [
  {
   "cell_type": "code",
   "execution_count": 1,
   "id": "6d86939e",
   "metadata": {},
   "outputs": [],
   "source": [
    "from splinter import Browser\n",
    "from bs4 import BeautifulSoup\n",
    "from webdriver_manager.chrome import ChromeDriverManager\n",
    "\n",
    "executable_path = {'executable_path': ChromeDriverManager().install()}\n",
    "browser = Browser('chrome', **executable_path, headless=False)"
   ]
  },
  {
   "cell_type": "code",
   "execution_count": 2,
   "id": "f6a1789f",
   "metadata": {},
   "outputs": [],
   "source": [
    "url = \"https://redplanetscience.com\"\n",
    "browser.visit(url)"
   ]
  },
  {
   "cell_type": "code",
   "execution_count": 3,
   "id": "d766bfb1",
   "metadata": {},
   "outputs": [
    {
     "data": {
      "text/plain": [
       "\"NASA's Perseverance Rover Bringing 3D-Printed Metal Parts to Mars\""
      ]
     },
     "execution_count": 3,
     "metadata": {},
     "output_type": "execute_result"
    }
   ],
   "source": [
    "browser.find_by_xpath('//*[@id=\"news\"]/div[1]/div/div[2]/div/div[2]').text\n",
    "\n"
   ]
  },
  {
   "cell_type": "code",
   "execution_count": 4,
   "id": "3db674eb",
   "metadata": {},
   "outputs": [
    {
     "data": {
      "text/plain": [
       "[{'title': \"NASA's Perseverance Rover Bringing 3D-Printed Metal Parts to Mars\",\n",
       "  'preview': \"For hobbyists and makers, 3D printing expands creative possibilities; for specialized engineers, it's also key to next-generation spacecraft design.\"},\n",
       " {'title': \"Curiosity Mars Rover's Summer Road Trip Has Begun\",\n",
       "  'preview': 'After more than a year in the \"clay-bearing unit,\" Curiosity is making a mile-long journey around some deep sand so that it can explore higher up Mount Sharp.'},\n",
       " {'title': \"Deadline Closing for Names to Fly on NASA's Next Mars Rover\",\n",
       "  'preview': 'You have until Sept. 30 to send your names to Mars aboard the Mars 2020 rover.'},\n",
       " {'title': \"NASA's Mars 2020 Heads Into the Test Chamber\",\n",
       "  'preview': 'In this time-lapse video taken at JPL, engineers move the Mars 2020 rover into a large vacuum chamber for testing in Mars-like environmental conditions.'},\n",
       " {'title': \"NASA's MAVEN Maps Winds in the Martian Upper Atmosphere that Mirror the Terrain Below and Gives Clues to Martian Climate\",\n",
       "  'preview': 'Researchers have created the first map of wind circulation in the upper atmosphere of a planet besides Earth, using data from NASA’s MAVEN spacecraft that were collected during the last two years.'},\n",
       " {'title': 'With Mars Methane Mystery Unsolved, Curiosity Serves Scientists a New One: Oxygen',\n",
       "  'preview': 'For the first time in the history of space exploration, scientists have measured the seasonal changes in the gases that fill the air directly above the surface of Gale Crater on Mars.'},\n",
       " {'title': \"Alabama High School Student Names NASA's Mars Helicopter\",\n",
       "  'preview': \"Vaneeza Rupani's essay was chosen as the name for the small spacecraft, which will mark NASA's first attempt at powered flight on another planet.\"},\n",
       " {'title': \"8 Martian Postcards to Celebrate Curiosity's Landing Anniversary\",\n",
       "  'preview': 'The NASA rover touched down eight years ago, on Aug. 5, 2012, and will soon be joined by a second rover, Perseverance.'},\n",
       " {'title': \"A New Video Captures the Science of NASA's Perseverance Mars Rover\",\n",
       "  'preview': 'With a targeted launch date of July 30, the next robotic scientist NASA is sending to the to the Red Planet has big ambitions.'},\n",
       " {'title': 'NASA, ULA Launch Mars 2020 Perseverance Rover Mission to Red Planet',\n",
       "  'preview': \"The agency's Mars 2020 mission is on its way. It will land at Jezero Crater in about seven months, on Feb. 18, 2021.\"},\n",
       " {'title': 'NASA Invites Students to Name Mars 2020 Rover',\n",
       "  'preview': \"Through Nov. 1, K-12 students in the U.S. are encouraged to enter an essay contest to name NASA's next Mars rover.\"},\n",
       " {'title': 'NASA Invites Public to Share Excitement of Mars 2020 Perseverance Rover Launch',\n",
       "  'preview': 'There are lots of ways to participate in the historic event, which is targeted for July 30.'},\n",
       " {'title': 'The MarCO Mission Comes to an End',\n",
       "  'preview': 'The pair of briefcase-sized satellites made history when they sailed past Mars in 2019.'},\n",
       " {'title': 'NASA Moves Forward With Campaign to Return Mars Samples to Earth',\n",
       "  'preview': 'During this next phase, the program will mature critical technologies and make critical design decisions as well as assess industry partnerships.'},\n",
       " {'title': \"NASA InSight's 'Mole' Is Out of Sight\",\n",
       "  'preview': \"Now that the heat probe is just below the Martian surface, InSight's arm will scoop some additional soil on top to help it keep digging so it can take Mars' temperature.\"}]"
      ]
     },
     "execution_count": 4,
     "metadata": {},
     "output_type": "execute_result"
    }
   ],
   "source": [
    "article_lengt = len(browser.find_by_css('div.content_title'))\n",
    "articles_list = []\n",
    "\n",
    "\n",
    "for i in range (article_lengt):\n",
    "    \n",
    "    articles_dict = {}\n",
    "    xpath_title = f'//*[@id=\"news\"]/div[{i+1}]/div/div[2]/div/div[2]'\n",
    "    xpath_prev = f'//*[@id=\"news\"]/div[{i+1}]/div/div[2]/div/div[3]'\n",
    "    title = browser.find_by_xpath(xpath_title).text\n",
    "    prev = browser.find_by_xpath(xpath_prev).text\n",
    "    articles_dict['title'] = title\n",
    "    articles_dict['preview'] = prev\n",
    "    articles_list.append(articles_dict)\n",
    "\n",
    "\n",
    "\n",
    "articles_list"
   ]
  },
  {
   "cell_type": "code",
   "execution_count": 5,
   "id": "4c4df641",
   "metadata": {},
   "outputs": [
    {
     "name": "stdout",
     "output_type": "stream",
     "text": [
      "[\n",
      "  {\n",
      "    \"title\": \"NASA's Perseverance Rover Bringing 3D-Printed Metal Parts to Mars\",\n",
      "    \"preview\": \"For hobbyists and makers, 3D printing expands creative possibilities; for specialized engineers, it's also key to next-generation spacecraft design.\"\n",
      "  },\n",
      "  {\n",
      "    \"title\": \"Curiosity Mars Rover's Summer Road Trip Has Begun\",\n",
      "    \"preview\": \"After more than a year in the \\\"clay-bearing unit,\\\" Curiosity is making a mile-long journey around some deep sand so that it can explore higher up Mount Sharp.\"\n",
      "  },\n",
      "  {\n",
      "    \"title\": \"Deadline Closing for Names to Fly on NASA's Next Mars Rover\",\n",
      "    \"preview\": \"You have until Sept. 30 to send your names to Mars aboard the Mars 2020 rover.\"\n",
      "  },\n",
      "  {\n",
      "    \"title\": \"NASA's Mars 2020 Heads Into the Test Chamber\",\n",
      "    \"preview\": \"In this time-lapse video taken at JPL, engineers move the Mars 2020 rover into a large vacuum chamber for testing in Mars-like environmental conditions.\"\n",
      "  },\n",
      "  {\n",
      "    \"title\": \"NASA's MAVEN Maps Winds in the Martian Upper Atmosphere that Mirror the Terrain Below and Gives Clues to Martian Climate\",\n",
      "    \"preview\": \"Researchers have created the first map of wind circulation in the upper atmosphere of a planet besides Earth, using data from NASA\\u2019s MAVEN spacecraft that were collected during the last two years.\"\n",
      "  },\n",
      "  {\n",
      "    \"title\": \"With Mars Methane Mystery Unsolved, Curiosity Serves Scientists a New One: Oxygen\",\n",
      "    \"preview\": \"For the first time in the history of space exploration, scientists have measured the seasonal changes in the gases that fill the air directly above the surface of Gale Crater on Mars.\"\n",
      "  },\n",
      "  {\n",
      "    \"title\": \"Alabama High School Student Names NASA's Mars Helicopter\",\n",
      "    \"preview\": \"Vaneeza Rupani's essay was chosen as the name for the small spacecraft, which will mark NASA's first attempt at powered flight on another planet.\"\n",
      "  },\n",
      "  {\n",
      "    \"title\": \"8 Martian Postcards to Celebrate Curiosity's Landing Anniversary\",\n",
      "    \"preview\": \"The NASA rover touched down eight years ago, on Aug. 5, 2012, and will soon be joined by a second rover, Perseverance.\"\n",
      "  },\n",
      "  {\n",
      "    \"title\": \"A New Video Captures the Science of NASA's Perseverance Mars Rover\",\n",
      "    \"preview\": \"With a targeted launch date of July 30, the next robotic scientist NASA is sending to the to the Red Planet has big ambitions.\"\n",
      "  },\n",
      "  {\n",
      "    \"title\": \"NASA, ULA Launch Mars 2020 Perseverance Rover Mission to Red Planet\",\n",
      "    \"preview\": \"The agency's Mars 2020 mission is on its way. It will land at Jezero Crater in about seven months, on Feb. 18, 2021.\"\n",
      "  },\n",
      "  {\n",
      "    \"title\": \"NASA Invites Students to Name Mars 2020 Rover\",\n",
      "    \"preview\": \"Through Nov. 1, K-12 students in the U.S. are encouraged to enter an essay contest to name NASA's next Mars rover.\"\n",
      "  },\n",
      "  {\n",
      "    \"title\": \"NASA Invites Public to Share Excitement of Mars 2020 Perseverance Rover Launch\",\n",
      "    \"preview\": \"There are lots of ways to participate in the historic event, which is targeted for July 30.\"\n",
      "  },\n",
      "  {\n",
      "    \"title\": \"The MarCO Mission Comes to an End\",\n",
      "    \"preview\": \"The pair of briefcase-sized satellites made history when they sailed past Mars in 2019.\"\n",
      "  },\n",
      "  {\n",
      "    \"title\": \"NASA Moves Forward With Campaign to Return Mars Samples to Earth\",\n",
      "    \"preview\": \"During this next phase, the program will mature critical technologies and make critical design decisions as well as assess industry partnerships.\"\n",
      "  },\n",
      "  {\n",
      "    \"title\": \"NASA InSight's 'Mole' Is Out of Sight\",\n",
      "    \"preview\": \"Now that the heat probe is just below the Martian surface, InSight's arm will scoop some additional soil on top to help it keep digging so it can take Mars' temperature.\"\n",
      "  }\n",
      "]\n"
     ]
    }
   ],
   "source": [
    "import json\n",
    "\n",
    "final = json.dumps(articles_list, indent=2)\n",
    "  \n",
    "# display\n",
    "print(final)"
   ]
  },
  {
   "cell_type": "code",
   "execution_count": 6,
   "id": "6ccd00a8",
   "metadata": {},
   "outputs": [],
   "source": [
    "with open(\"deliverable1.json\", \"w\") as final:\n",
    "    json.dump(articles_list, final)"
   ]
  },
  {
   "cell_type": "code",
   "execution_count": null,
   "id": "a98a7089",
   "metadata": {},
   "outputs": [],
   "source": []
  }
 ],
 "metadata": {
  "kernelspec": {
   "display_name": "Python 3 (ipykernel)",
   "language": "python",
   "name": "python3"
  },
  "language_info": {
   "codemirror_mode": {
    "name": "ipython",
    "version": 3
   },
   "file_extension": ".py",
   "mimetype": "text/x-python",
   "name": "python",
   "nbconvert_exporter": "python",
   "pygments_lexer": "ipython3",
   "version": "3.9.12"
  }
 },
 "nbformat": 4,
 "nbformat_minor": 5
}
